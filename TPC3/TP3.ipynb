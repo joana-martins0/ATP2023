{
 "cells": [
  {
   "cell_type": "markdown",
   "metadata": {},
   "source": [
    "## Jogo Adivinha o Número\n",
    "\n",
    "Para desenvolver o jogo Adivinha o Número, primeiro, é necessário delinear qual é a estratégia do jogo, em que tanto o jogador como o computador quando for a sua vez de jogar ganham o jogo. Para além disso, é necessário que se imprima o número de tentativas de acertar no jogo no final quando o jogador/ o computador ganha. Por fim, concluímos quantas tentativas foram necessárias e comparar o número de tentativas que o computador precisou para adivinhar o númerodo jogador e vice-versa.\n",
    "\n",
    "Inês Gonçalves Faria A95494"
   ]
  },
  {
   "cell_type": "markdown",
   "metadata": {},
   "source": [
    "A estratégia será, em 100 números, o computador quando pergunta ao jogador o número que está a pensar, dá um palpite random entre 0 e 100 e esse palpite é adicionado à variável numeroTentativas que vai somando o número de tentativas. Se o número for de facto o palpite do computador, retorna a frase \"O computador ganhou! O número de tentativas necessárias foi: \", em que é também retornado o número de tentativas. \n",
    "\n",
    "Se o palpite for maior que o número pensado, é adicionado à variável limiteInferior o valor do palpite mais um, para que haja a diminiuição da janela de valores de escolha para o próximo palpite. A mesma situação para quando o palpite é menor que o número pensado.\n",
    "\n",
    "Para além disso, o jogador pode escolher que tipo de jogo que quer jogar (onde o jogador pode começar o jogo a escolher o número ou onde o computador pode escolher o número e o jogador adivinhar).\n"
   ]
  },
  {
   "cell_type": "code",
   "execution_count": null,
   "metadata": {},
   "outputs": [],
   "source": [
    "\n",
    "import random\n",
    "def jogoAdivinhaNumeroComputador (num):\n",
    "    \n",
    "    numeroTentativas = 0\n",
    "    limiteSuperior = 100 #podemos colocar isto como uma variável que nós definimos\n",
    "    limiteInferior = 0\n",
    "    while True:\n",
    "        palpite = random.randint (limiteInferior, limiteSuperior)\n",
    "        print (\"O computador diz: \", palpite)\n",
    "        numeroTentativas = numeroTentativas + 1\n",
    "        if palpite == num:\n",
    "            print (\"O computador ganhou! O número de tentativas necessárias foi \", numeroTentativas)\n",
    "            break\n",
    "        elif palpite < num:\n",
    "            print (\"O número é maior! Try Again\")\n",
    "            limiteInferior = palpite + 1\n",
    "        elif palpite > num:\n",
    "            print (\"O número é menor! Try Again\")\n",
    "            limiteSuperior = palpite + 1 \n",
    "num = int(input(\"O jogador insere um número: \"))\n",
    "\n",
    "def jogoAdivinhaNumeroJogador ():\n",
    "    numero = random.randint(0,100) #número escolhido à toa pelo computador\n",
    "    numeroTentativas = 0\n",
    "    \n",
    "    while True:\n",
    "        palpite = int(input(\"Insira o seu palpite: \"))\n",
    "        numeroTentativas = numeroTentativas + 1\n",
    "        if palpite == numero:\n",
    "            numeroTentativas = numeroTentativas + 1\n",
    "            print (\"Parabéns! O jogador ganhou! O número de tentativas necessárias foi: \", numeroTentativas)\n",
    "            break\n",
    "        elif palpite < numero:\n",
    "            print (\"O número é maior: \")\n",
    "        else: \n",
    "            print (\"O número é menor: \")\n",
    "\n",
    "jogo = int(input(\"Escolha o jogo que quer jogar: 1 - para o computador ser a advinhar ou 2 - para o jogador ser a adivinhar.\"))\n",
    "if jogo == 1:\n",
    "    jogoAdivinhaNumeroComputador ()\n",
    "elif jogo == 2:\n",
    "    jogoAdivinhaNumeroJogador ()\n",
    "else:\n",
    "    print (\"Modo Inválido! Escolha entre 1 e 2.\")"
   ]
  },
  {
   "cell_type": "markdown",
   "metadata": {},
   "source": [
    "Relativamente ao jogo, é possível concluir que o número de tentativas que o computador precisa para descobrir um número entre 0 e 100 é menor que o número de tentativas que o computador precisa para descobrir um número entre 0 e 1000. No que toca ao jogador, depende muito de quem está a jogar e da estratégia que utiliza."
   ]
  }
 ],
 "metadata": {
  "kernelspec": {
   "display_name": "Python 3",
   "language": "python",
   "name": "python3"
  },
  "language_info": {
   "name": "python",
   "version": "3.9.6"
  },
  "orig_nbformat": 4
 },
 "nbformat": 4,
 "nbformat_minor": 2
}
